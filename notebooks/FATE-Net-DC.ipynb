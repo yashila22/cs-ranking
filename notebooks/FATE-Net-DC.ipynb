{
 "cells": [
  {
   "cell_type": "markdown",
   "metadata": {},
   "source": [
    "# Discrete Choice Problem"
   ]
  },
  {
   "cell_type": "code",
   "execution_count": 1,
   "metadata": {},
   "outputs": [
    {
     "name": "stderr",
     "output_type": "stream",
     "text": [
      "Using TensorFlow backend.\n",
      "/home/pritha/anaconda3/envs/linenv/lib/python3.7/site-packages/sklearn/externals/joblib/__init__.py:15: DeprecationWarning: sklearn.externals.joblib is deprecated in 0.21 and will be removed in 0.23. Please import this functionality directly from joblib, which can be installed with: pip install joblib. If this warning is raised when loading pickled models, you may need to re-serialize those models with scikit-learn 0.21+.\n",
      "  warnings.warn(msg, category=DeprecationWarning)\n"
     ]
    }
   ],
   "source": [
    "%%capture --no-stderr\n",
    "import warnings\n",
    "warnings.filterwarnings('ignore')\n",
    "%matplotlib inline\n",
    "import matplotlib.pyplot as plt\n",
    "import numpy as np\n",
    "from csrank import FATEDiscreteChoiceFunction"
   ]
  },
  {
   "cell_type": "markdown",
   "metadata": {},
   "source": [
    "## The Medoid DC Problem"
   ]
  },
  {
   "cell_type": "markdown",
   "metadata": {},
   "source": [
    "In the medoid problem the goal of the discrete choice algorithms for the medoid problem is to find the most central object for the given set.\n",
    "This problem is inspired by solving the task of finding a good representation of the given data using the most central point of the data points\n",
    "\n",
    "We will generate a random dataset where each instance contains 5 objects and 2 features for easy plotting."
   ]
  },
  {
   "cell_type": "code",
   "execution_count": 2,
   "metadata": {},
   "outputs": [],
   "source": [
    "from csrank import DiscreteChoiceDatasetGenerator\n",
    "seed = 123\n",
    "n_train = 10000\n",
    "n_test = 10000\n",
    "n_features = 2\n",
    "n_objects = 5\n",
    "gen = DiscreteChoiceDatasetGenerator(dataset_type='medoid', random_state=seed,\n",
    "                                n_train_instances=n_train,\n",
    "                                n_test_instances=n_test,\n",
    "                                n_objects=n_objects,\n",
    "                                n_features=n_features)"
   ]
  },
  {
   "cell_type": "code",
   "execution_count": 3,
   "metadata": {},
   "outputs": [],
   "source": [
    "X_train, Y_train, X_test, Y_test = gen.get_single_train_test_split()"
   ]
  },
  {
   "cell_type": "markdown",
   "metadata": {},
   "source": [
    "Let us plot a random instance. The medoid is marked as M."
   ]
  },
  {
   "cell_type": "code",
   "execution_count": 4,
   "metadata": {},
   "outputs": [
    {
     "data": {
      "image/png": "[encoded data removed]",
      "text/plain": [
       "<Figure size 360x360 with 1 Axes>"
      ]
     },
     "metadata": {
      "needs_background": "light"
     },
     "output_type": "display_data"
    }
   ],
   "source": [
    "def get_name(d):\n",
    "    if d ==0:\n",
    "        return \"\"\n",
    "    else:\n",
    "        return \"M\"\n",
    "fig, ax = plt.subplots(figsize=(5,5))\n",
    "inst = np.random.choice(n_train)\n",
    "ax.scatter(X_train[inst][:, 0], X_train[inst][:, 1])\n",
    "for i in range(n_objects):\n",
    "    ax.text(X_train[inst, i, 0]+0.01,\n",
    "            X_train[inst, i, 1]+0.01,\n",
    "            s=get_name(int(Y_train[inst, i])))"
   ]
  },
  {
   "cell_type": "markdown",
   "metadata": {},
   "source": [
    "## The FATE network\n",
    "The first-aggregate-then-evaluate approach learns an embedding of each object and then aggregates that into a _context_:\n",
    "\\begin{equation}\n",
    "\t\\mu_{C(\\vec{x})} = \\frac{1}{|C(\\vec{x})|} \\sum_{\\vec{y} \\in C(\\vec{x})} \\phi(\\vec{y})\n",
    "\\end{equation}\n",
    "and then scores each object $\\vec{x}$ using a generalized utility function $U (\\vec{x}, \\mu_{C(\\vec{x})})$."
   ]
  },
  {
   "cell_type": "code",
   "execution_count": 5,
   "metadata": {},
   "outputs": [],
   "source": [
    "from keras.optimizers import SGD\n",
    "from csrank import FATEObjectRanker\n",
    "from csrank.losses import smooth_rank_loss\n",
    "fate = FATEObjectRanker(\n",
    "    loss_function=smooth_rank_loss,\n",
    "    optimizer=SGD(lr=1e-4, nesterov=True, momentum=0.9))"
   ]
  },
  {
   "cell_type": "markdown",
   "metadata": {},
   "source": [
    "We will run the training for only 10 epochs to get an idea of the convergence:"
   ]
  },
  {
   "cell_type": "code",
   "execution_count": 6,
   "metadata": {},
   "outputs": [
    {
     "name": "stdout",
     "output_type": "stream",
     "text": [
      "Train on 9000 samples, validate on 1000 samples\n",
      "Epoch 1/10\n",
      "9000/9000 [==============================] - 5s 597us/step - loss: 11.3359 - zero_one_rank_loss_for_scores_ties: 2.2760 - val_loss: 11.1825 - val_zero_one_rank_loss_for_scores_ties: 1.7870\n",
      "Epoch 2/10\n",
      "9000/9000 [==============================] - 0s 55us/step - loss: 11.1318 - zero_one_rank_loss_for_scores_ties: 1.6821 - val_loss: 11.0589 - val_zero_one_rank_loss_for_scores_ties: 1.5470\n",
      "Epoch 3/10\n",
      "9000/9000 [==============================] - 1s 56us/step - loss: 11.0235 - zero_one_rank_loss_for_scores_ties: 1.5189 - val_loss: 10.9597 - val_zero_one_rank_loss_for_scores_ties: 1.4140\n",
      "Epoch 4/10\n",
      "9000/9000 [==============================] - 0s 53us/step - loss: 10.9261 - zero_one_rank_loss_for_scores_ties: 1.3969 - val_loss: 10.8706 - val_zero_one_rank_loss_for_scores_ties: 1.3390\n",
      "Epoch 5/10\n",
      "9000/9000 [==============================] - 1s 56us/step - loss: 10.8475 - zero_one_rank_loss_for_scores_ties: 1.3219 - val_loss: 10.8015 - val_zero_one_rank_loss_for_scores_ties: 1.2610\n",
      "Epoch 6/10\n",
      "9000/9000 [==============================] - 0s 54us/step - loss: 10.7881 - zero_one_rank_loss_for_scores_ties: 1.2678 - val_loss: 10.7448 - val_zero_one_rank_loss_for_scores_ties: 1.1940\n",
      "Epoch 7/10\n",
      "9000/9000 [==============================] - 1s 56us/step - loss: 10.7408 - zero_one_rank_loss_for_scores_ties: 1.2316 - val_loss: 10.6945 - val_zero_one_rank_loss_for_scores_ties: 1.1680\n",
      "Epoch 8/10\n",
      "9000/9000 [==============================] - 0s 55us/step - loss: 10.6958 - zero_one_rank_loss_for_scores_ties: 1.1852 - val_loss: 10.6414 - val_zero_one_rank_loss_for_scores_ties: 1.1430\n",
      "Epoch 9/10\n",
      "9000/9000 [==============================] - 1s 59us/step - loss: 10.6492 - zero_one_rank_loss_for_scores_ties: 1.1494 - val_loss: 10.5997 - val_zero_one_rank_loss_for_scores_ties: 1.0930\n",
      "Epoch 10/10\n",
      "9000/9000 [==============================] - 1s 56us/step - loss: 10.6093 - zero_one_rank_loss_for_scores_ties: 1.1200 - val_loss: 10.5566 - val_zero_one_rank_loss_for_scores_ties: 1.0710\n"
     ]
    }
   ],
   "source": [
    "fate.fit(X_train, Y_train, verbose=True, epochs=10)"
   ]
  },
  {
   "cell_type": "code",
   "execution_count": 7,
   "metadata": {},
   "outputs": [],
   "source": [
    "scores = fate.predict_scores(X_test)"
   ]
  },
  {
   "cell_type": "code",
   "execution_count": 8,
   "metadata": {},
   "outputs": [
    {
     "data": {
      "text/plain": [
       "0.0035"
      ]
     },
     "execution_count": 8,
     "metadata": {},
     "output_type": "execute_result"
    }
   ],
   "source": [
    "from csrank.metrics_np import categorical_accuracy_np\n",
    "from keras import backend as K\n",
    "categorical_accuracy_np(Y_test, scores)"
   ]
  },
  {
   "cell_type": "markdown",
   "metadata": {},
   "source": [
    "Not converged yet, but let us visualize the scores it assigns to test instances:"
   ]
  },
  {
   "cell_type": "code",
   "execution_count": 9,
   "metadata": {},
   "outputs": [
    {
     "data": {
      "image/png": "[encoded data removed]",
      "text/plain": [
       "<Figure size 360x360 with 1 Axes>"
      ]
     },
     "metadata": {
      "needs_background": "light"
     },
     "output_type": "display_data"
    }
   ],
   "source": [
    "fig, ax = plt.subplots(figsize=(5,5))\n",
    "inst = np.random.choice(n_test)\n",
    "ax.scatter(X_test[inst][:, 0], X_test[inst][:, 1])\n",
    "for i in range(n_objects):\n",
    "    ax.text(X_test[inst, i, 0]+0.01,\n",
    "            X_test[inst, i, 1]+0.01,\n",
    "            s=int(Y_test[inst, i]))\n",
    "    ax.text(X_test[inst, i, 0]+0.01,\n",
    "            X_test[inst, i, 1]-0.05,\n",
    "            s='{:.1f}'.format(scores[inst][i]),\n",
    "            color='b')"
   ]
  }
 ],
 "metadata": {
  "kernelspec": {
   "display_name": "Python 3",
   "language": "python",
   "name": "python3"
  },
  "language_info": {
   "codemirror_mode": {
    "name": "ipython",
    "version": 3
   },
   "file_extension": ".py",
   "mimetype": "text/x-python",
   "name": "python",
   "nbconvert_exporter": "python",
   "pygments_lexer": "ipython3",
   "version": "3.7.3"
  }
 },
 "nbformat": 4,
 "nbformat_minor": 2
}
